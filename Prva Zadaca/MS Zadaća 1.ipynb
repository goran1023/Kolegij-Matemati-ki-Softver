{
 "cells": [
  {
   "cell_type": "markdown",
   "metadata": {},
   "source": [
    "<h1>Natural Language Processing</h1>"
   ]
  },
  {
   "cell_type": "markdown",
   "metadata": {},
   "source": [
    "Natural-language processing (<strong>NLP</strong>) (obrada prirodnog jezika) je disciplina u računarstvu koja se bavi interakcijom računala i prirodnog (ljudskog) jezika i načinom kako računalo može procesuirati velike količine teksta. Pojam <i>prirodan</i> odnosi se na jezik kojim ljudi govore, npr. engleski, hrvatski, kineski, itd.  Koristit ćemo <a href=\"https://www.nltk.org/\">NLTK</a> modul i obraditi ćemo neke osnovne nltk komponente.  "
   ]
  },
  {
   "cell_type": "markdown",
   "metadata": {},
   "source": [
    "Jedan primjer literature:"
   ]
  },
  {
   "cell_type": "code",
   "execution_count": 9,
   "metadata": {},
   "outputs": [
    {
     "data": {
      "text/html": [
       "<img src=\"http://covers.oreilly.com/images/9780596516499/cat.gif\"/>"
      ],
      "text/plain": [
       "<IPython.core.display.Image object>"
      ]
     },
     "execution_count": 9,
     "metadata": {},
     "output_type": "execute_result"
    }
   ],
   "source": [
    "from IPython.display import Image\n",
    "Image(url='http://covers.oreilly.com/images/9780596516499/cat.gif')"
   ]
  },
  {
   "cell_type": "code",
   "execution_count": 10,
   "metadata": {},
   "outputs": [],
   "source": [
    "#import nltk modula\n",
    "import nltk"
   ]
  },
  {
   "cell_type": "code",
   "execution_count": 14,
   "metadata": {},
   "outputs": [],
   "source": [
    "#prvo ćemo downloadati sve potrebne komponente \n",
    "#da bi mogli pravilno koristiti komponente\n",
    "#anaconda dolazi sa \"bundled\" nltk modulom,\n",
    "#ali kroz GUI koji nam se otvori na komandu download\n",
    "#možemo instalirati i neke dodatne stvari\n",
    "\n",
    "\n",
    "#nltk.download()"
   ]
  },
  {
   "cell_type": "markdown",
   "metadata": {},
   "source": [
    "<h3>Osnovni pojmovi</h3>"
   ]
  },
  {
   "cell_type": "markdown",
   "metadata": {},
   "source": [
    "<ul>\n",
    "    <li><strong>Tokenization</strong>(word or sentence) - jedan od početnih koraka u NLP procesu, korak koji rastavljamo dugačke stringove teksta u manje dijelove - tokene</li>\n",
    "    <li><strong>Stop words</strong> - česte riječi u jeziku koje nam nisu pretjerano korisne za daljnji processing</li>\n",
    "    <li><strong>Stemming</strong> - 'stemeri' izbacuju prefikse ili postfikse iz riječi i ostavljaju samo osnovu riječi\n",
    "    <li><strong>Corpora</strong> - odnosi se na kolekciju teksta ili tijelo koji imaju neko zajedničko svojstvo, na primjer: Engleski jezik</li>\n",
    "    <li><strong>Lexicon</strong> - riječi i njihova značenja, riječnik</li>\n",
    "    \n",
    "</ul>"
   ]
  },
  {
   "cell_type": "markdown",
   "metadata": {},
   "source": [
    "<h3>Tokenization</h3>"
   ]
  },
  {
   "cell_type": "code",
   "execution_count": 15,
   "metadata": {},
   "outputs": [],
   "source": [
    "from nltk.tokenize import sent_tokenize, word_tokenize"
   ]
  },
  {
   "cell_type": "code",
   "execution_count": 16,
   "metadata": {},
   "outputs": [
    {
     "name": "stdout",
     "output_type": "stream",
     "text": [
      "['Ovo je prva zadaća iz kolegija Matematički Softver.']\n"
     ]
    }
   ],
   "source": [
    "primjer = \"Ovo je prva zadaća iz kolegija Matematički Softver.\"\n",
    "print(sent_tokenize(primjer))"
   ]
  },
  {
   "cell_type": "code",
   "execution_count": 18,
   "metadata": {},
   "outputs": [
    {
     "name": "stdout",
     "output_type": "stream",
     "text": [
      "['Ovo', 'je', 'prva', 'zadaća', 'iz', 'kolegija', 'Matematički', 'Softver', '.']\n"
     ]
    }
   ],
   "source": [
    "rijeci = word_tokenize(primjer)\n",
    "print(rijeci)"
   ]
  },
  {
   "cell_type": "code",
   "execution_count": 20,
   "metadata": {},
   "outputs": [
    {
     "name": "stdout",
     "output_type": "stream",
     "text": [
      "Ovo\n",
      "je\n",
      "prva\n",
      "zadaća\n",
      "iz\n",
      "kolegija\n",
      "Matematički\n",
      "Softver\n",
      ".\n"
     ]
    }
   ],
   "source": [
    "for rijec in rijeci:\n",
    "    print(rijec)"
   ]
  },
  {
   "cell_type": "markdown",
   "metadata": {},
   "source": [
    "U nastavku ćemo koristiti engleski jezik u primjerima jer jer NLTK najbolje podržan za engleski jezik."
   ]
  },
  {
   "cell_type": "markdown",
   "metadata": {},
   "source": [
    "<h3>Filtriranje teksta korištenjem 'stop-words'</h3>"
   ]
  },
  {
   "cell_type": "code",
   "execution_count": 22,
   "metadata": {},
   "outputs": [
    {
     "name": "stdout",
     "output_type": "stream",
     "text": [
      "{'will', 'weren', 'whom', 'above', 'himself', 'out', 'all', 'not', 'yourselves', 'just', 'on', 'in', 'its', 'ain', 'but', 'does', 'during', \"couldn't\", 'because', \"that'll\", \"you'll\", 'these', 'more', 'off', \"haven't\", 'doesn', 'theirs', 'any', \"you've\", 'too', 're', 'until', 'they', 'when', 'should', 'why', 'this', 'own', 'ours', 'further', 'at', 'isn', 'now', 'did', 've', 'from', 'his', \"didn't\", 'do', 'you', 'be', 'were', \"doesn't\", \"you'd\", 'some', \"wasn't\", 'wasn', 'been', 'each', 'hers', 'while', \"shouldn't\", 'won', 'm', \"should've\", 'mustn', 'than', \"it's\", 'then', 'who', 'him', 'few', \"isn't\", 'she', 'into', 'me', 'needn', 'shouldn', 'those', 'll', 'can', 't', 'ma', 'an', 'ourselves', 'hasn', \"shan't\", 'no', 'such', 'that', 'and', 'myself', 'has', 'o', 'what', 'over', 'under', 'don', \"don't\", 'about', 'my', 'is', \"needn't\", 'wouldn', 'd', 'was', 'had', 'of', 'yours', 'your', 'very', 'being', 'other', 'with', 'haven', 'again', 'for', 'before', 'by', 'down', 'after', 'so', 'having', 'up', \"you're\", 'only', 'themselves', 'he', 'are', \"wouldn't\", 'am', \"hadn't\", 'most', 'between', \"mustn't\", 'where', 'we', 'through', 's', 'as', \"mightn't\", 'to', 'shan', 'it', 'hadn', 'doing', 'both', 'her', 'herself', 'the', 'i', 'a', 'there', 'mightn', 'against', 'here', 'y', 'their', \"aren't\", 'same', 'our', \"won't\", 'which', 'below', 'didn', \"weren't\", 'how', 'or', 'them', \"she's\", 'nor', 'have', 'yourself', \"hasn't\", 'once', 'aren', 'couldn', 'if', 'itself'}\n"
     ]
    }
   ],
   "source": [
    "from nltk.corpus import stopwords\n",
    "\n",
    "#učitamo stop-words na engleskom jeziku u obliku seta\n",
    "stop = set(stopwords.words(\"english\"))\n",
    "print(stop)"
   ]
  },
  {
   "cell_type": "code",
   "execution_count": 23,
   "metadata": {},
   "outputs": [
    {
     "name": "stdout",
     "output_type": "stream",
     "text": [
      "['OK', ',', 'I', \"'ll\", 'back', 'hour', '.', 'If', 'think', 'anything', 'else', 'need', ',', 'give', 'call', '.']\n"
     ]
    }
   ],
   "source": [
    "recenica = \"OK, I'll be back in about an hour. If you think of anything else you need, give me a call.\"\n",
    "rijeci = word_tokenize(recenica)\n",
    "nove = []\n",
    "\n",
    "for r in rijeci:\n",
    "    if r not in stop:\n",
    "        nove.append(r)\n",
    "print(nove)"
   ]
  },
  {
   "cell_type": "markdown",
   "metadata": {},
   "source": [
    "<h3>Stemming</h3>"
   ]
  },
  {
   "cell_type": "code",
   "execution_count": 41,
   "metadata": {},
   "outputs": [
    {
     "name": "stdout",
     "output_type": "stream",
     "text": [
      "program\n",
      "program\n",
      "programmat\n"
     ]
    }
   ],
   "source": [
    "#Primjer:\n",
    "rijeci = [\"program\", \"programming\", \"programmatically\"]\n",
    "\n",
    "from nltk.stem import PorterStemmer\n",
    "ps = PorterStemmer()\n",
    "\n",
    "for r in rijeci:\n",
    "    print(ps.stem(r))"
   ]
  },
  {
   "cell_type": "code",
   "execution_count": 67,
   "metadata": {},
   "outputs": [
    {
     "name": "stdout",
     "output_type": "stream",
     "text": [
      "year consider debat finalist induct naismith memori basketbal hall fame nba hall basketbal player entir bodi work collegi success pro achiev oversea play must factor debat whether bust belong springfield first glanc chri bosh may seem like obviou hall fame select realiti virtual lock induct hi time come player must retir five year befor becom elig enter hall fame bosh ani troubl get despit fan may think bosh find hi hall fame candidaci question veri differ reason player fan unfairli mock downplay hi product wa share court lebron jame dwyan wade bosh public percept issu\n"
     ]
    }
   ],
   "source": [
    "#koristimo PorterStemmer\n",
    "def ukloni_ne_slova(recenica):\n",
    "    import re\n",
    "    regex = re.compile('[^a-zA-Z]')\n",
    "    recenica = regex.sub(' ', recenica)\n",
    "    return recenica\n",
    "\n",
    "def ukloni_stops(rijeci):\n",
    "    from nltk.corpus import stopwords\n",
    "    stop = set(stopwords.words(\"english\"))\n",
    "    \n",
    "    nove = []\n",
    "    for r in rijeci:\n",
    "        if r not in stop:\n",
    "            nove.append(r)\n",
    "        \n",
    "    return nove    \n",
    "    \n",
    "\n",
    "def pocisti(recenica, ukloni_stop_words=True):\n",
    "    #izbaci ne-slova\n",
    "    recenica = ukloni_ne_slova(recenica)\n",
    "    from nltk.tokenize import word_tokenize\n",
    "    \n",
    "    rijeci = word_tokenize(recenica.lower())\n",
    "    \n",
    "    from nltk.stem import PorterStemmer\n",
    "    \n",
    "    stem = PorterStemmer()\n",
    "    \n",
    "    rijeci_a = list(map(stem.stem, rijeci))\n",
    "    \n",
    "    #makni stop_words ako treba\n",
    "    \n",
    "    if ukloni_stop_words:\n",
    "        rijeci_a = ukloni_stops(rijeci_a)\n",
    "        \n",
    "    return ' '.join(rijeci_a)\n",
    "    \n",
    "\n",
    "recenica = \"Each year, there’s considerable debate about which finalists should be inducted into the Naismith Memorial Basketball Hall of Fame. The NBA doesn’t have its own Hall, so a basketball player’s entire body of work – from their collegiate success to pro achievements to overseas play – must be factored in when debating whether their bust belongs in Springfield.At first glance, Chris Bosh may not seem like an obvious Hall-of-Fame selection. But, in reality, he’s a virtual lock to be inducted when his time comes. A player must be retired for five years before becoming eligible to enter the Hall of Fame, and Bosh shouldn’t have any trouble getting in (despite what some fans may think).Bosh finds his Hall of Fame candidacy questioned for very different reasons than most players. While some fans (unfairly) mocked him or downplayed his production when he was sharing the court with LeBron James and Dwyane Wade, Bosh’s public perception isn’t the issue.\"\n",
    "\n",
    "nova = pocisti(recenica, True)\n",
    "\n",
    "print(nova)"
   ]
  },
  {
   "cell_type": "markdown",
   "metadata": {},
   "source": [
    "<h3>Učitavanje predefiniranih primjera</h3>"
   ]
  },
  {
   "cell_type": "code",
   "execution_count": 49,
   "metadata": {},
   "outputs": [
    {
     "data": {
      "text/plain": [
       "['austen-emma.txt',\n",
       " 'austen-persuasion.txt',\n",
       " 'austen-sense.txt',\n",
       " 'bible-kjv.txt',\n",
       " 'blake-poems.txt',\n",
       " 'bryant-stories.txt',\n",
       " 'burgess-busterbrown.txt',\n",
       " 'carroll-alice.txt',\n",
       " 'chesterton-ball.txt',\n",
       " 'chesterton-brown.txt',\n",
       " 'chesterton-thursday.txt',\n",
       " 'edgeworth-parents.txt',\n",
       " 'melville-moby_dick.txt',\n",
       " 'milton-paradise.txt',\n",
       " 'shakespeare-caesar.txt',\n",
       " 'shakespeare-hamlet.txt',\n",
       " 'shakespeare-macbeth.txt',\n",
       " 'whitman-leaves.txt']"
      ]
     },
     "execution_count": 49,
     "metadata": {},
     "output_type": "execute_result"
    }
   ],
   "source": [
    "#nltk modul dolazi sa mnogo primjera teksta kroz corpus \n",
    "#koje ćemo koristiti u primjerima\n",
    "nltk.corpus.gutenberg.fileids()"
   ]
  },
  {
   "cell_type": "code",
   "execution_count": 50,
   "metadata": {},
   "outputs": [],
   "source": [
    "#uzimamo shakespeareov Hamlet kao primjer\n",
    "hamlet = nltk.corpus.gutenberg.raw('shakespeare-hamlet.txt')"
   ]
  },
  {
   "cell_type": "code",
   "execution_count": 76,
   "metadata": {},
   "outputs": [
    {
     "data": {
      "image/png": "[encoded data removed]",
      "text/plain": [
       "<matplotlib.figure.Figure at 0x1a2fd868d0>"
      ]
     },
     "metadata": {},
     "output_type": "display_data"
    }
   ],
   "source": [
    "import collections\n",
    "import matplotlib.pyplot as plt\n",
    "import numpy as np\n",
    "\n",
    "#print(letterCnt)\n",
    "\n",
    "#ispisujemo brojac svakog slova kao barchart\n",
    "def nacrtaj_brojac(tekst):\n",
    "    letterCnt = collections.Counter(ukloni_ne_slova(tekst.lower()))\n",
    "    letters = ('a', 'b', 'c', 'd', 'e', 'f', 'g', 'h', 'i', 'j', 'k','l', 'm', 'n', 'o', 'p', 'q', 'r', 's', 't', 'u', 'v', 'w', 'x', 'y', 'z')\n",
    "    y = np.arange(len(letters))\n",
    "    \n",
    "    results = [];\n",
    "    for l in letters:\n",
    "        results.append(letterCnt[l])\n",
    "\n",
    "    plt.bar(y, results, align='center')\n",
    "    plt.xticks(y, letters)\n",
    "    plt.ylabel('counter')\n",
    "    plt.title('Brojac svakog slova (eng) u textu')\n",
    "\n",
    "    plt.show()\n",
    "    \n",
    "\n",
    "nacrtaj_brojac(hamlet)\n"
   ]
  },
  {
   "cell_type": "code",
   "execution_count": 90,
   "metadata": {},
   "outputs": [
    {
     "data": {
      "image/png": "[encoded data removed]",
      "text/plain": [
       "<matplotlib.figure.Figure at 0x1a2fe5abe0>"
      ]
     },
     "metadata": {},
     "output_type": "display_data"
    }
   ],
   "source": [
    "from nltk.corpus import inaugural\n",
    "def plot_starts_with(targets):\n",
    "    cfd = nltk.ConditionalFreqDist((target, fileid[:4])\n",
    "    for fileid in inaugural.fileids()\n",
    "        for w in inaugural.words(fileid)\n",
    "            for target in targets\n",
    "                if w.lower().startswith(target))\n",
    "    cfd.plot()\n",
    "   \n",
    "#graf kroz vrijeme koji čita sve inauguralne govore gleda početne riječi\n",
    "plot_starts_with(['world', 'people', 'america'])"
   ]
  },
  {
   "cell_type": "markdown",
   "metadata": {},
   "source": [
    "<h3>Chunking</h3>"
   ]
  },
  {
   "cell_type": "code",
   "execution_count": 102,
   "metadata": {},
   "outputs": [
    {
     "name": "stdout",
     "output_type": "stream",
     "text": [
      "[('Fellow-Citizens', 'NNS'), ('of', 'IN'), ('the', 'DT'), ('Senate', 'NNP'), ('and', 'CC'), ('of', 'IN'), ('the', 'DT'), ('House', 'NNP'), ('of', 'IN'), ('Representatives', 'NNPS'), (':', ':'), ('Among', 'IN'), ('the', 'DT'), ('vicissitudes', 'NNS'), ('incident', 'NN')]\n"
     ]
    }
   ],
   "source": [
    "recenica = inaugural.raw('1789-Washington.txt')\n",
    "recenica = recenica[:100]\n",
    "tokeni = sent_tokenize(recenica)\n",
    "#tagiranje rijeci\n",
    "for tkn in tokeni:\n",
    "    rijeci = word_tokenize(tkn)\n",
    "    tag = nltk.pos_tag(rijeci)\n",
    "    print(tag)\n"
   ]
  },
  {
   "cell_type": "code",
   "execution_count": 109,
   "metadata": {},
   "outputs": [],
   "source": [
    "recenica = inaugural.raw('1789-Washington.txt')\n",
    "recenica = recenica[:100]\n",
    "tokeni = sent_tokenize(recenica)\n",
    "#tagiranje rijeci\n",
    "#trazimo chunkove po predefiniranim tagovima\n",
    "for tkn in tokeni:\n",
    "    rijeci = word_tokenize(tkn)\n",
    "    tag = nltk.pos_tag(rijeci)\n",
    "    chnk = r\"\"\"Chunk: {<RB.?>*<VB,?>*<NNP>+<NN>?}\"\"\"\n",
    "    chprs = nltk.RegexpParser(chnk)\n",
    "    c = chprs.parse(tag)\n",
    "    c.draw()"
   ]
  },
  {
   "cell_type": "markdown",
   "metadata": {},
   "source": [
    "<h3>Lemmatization</h3>\n",
    "<p>Sličan proces 'stemming'-u samo rezultat je prava riječ.</p>"
   ]
  },
  {
   "cell_type": "code",
   "execution_count": 111,
   "metadata": {},
   "outputs": [
    {
     "name": "stdout",
     "output_type": "stream",
     "text": [
      "car\n"
     ]
    }
   ],
   "source": [
    "from nltk.stem import WordNetLemmatizer\n",
    "lemma = WordNetLemmatizer()\n",
    "print(lemma.lemmatize('cars'))"
   ]
  },
  {
   "cell_type": "markdown",
   "metadata": {},
   "source": [
    "<p>Isti primjer kao gore, samo koristimo 'lemmatize'</p>"
   ]
  },
  {
   "cell_type": "code",
   "execution_count": 112,
   "metadata": {},
   "outputs": [
    {
     "name": "stdout",
     "output_type": "stream",
     "text": [
      "year considerable debate finalist inducted naismith memorial basketball hall fame nba hall basketball player entire body work collegiate success pro achievement overseas play must factored debating whether bust belongs springfield first glance chris bosh may seem like obvious hall fame selection reality virtual lock inducted time come player must retired five year becoming eligible enter hall fame bosh trouble getting despite fan may think bosh find hall fame candidacy questioned different reason player fan unfairly mocked downplayed production wa sharing court lebron james dwyane wade bosh public perception issue\n"
     ]
    }
   ],
   "source": [
    "def pocisti_lemma(recenica, ukloni_stop_words=True):\n",
    "    #izbaci ne-slova\n",
    "    recenica = ukloni_ne_slova(recenica)\n",
    "    from nltk.tokenize import word_tokenize\n",
    "    \n",
    "    rijeci = word_tokenize(recenica.lower())\n",
    "    \n",
    "    from nltk.stem import WordNetLemmatizer\n",
    "    \n",
    "    lemma = WordNetLemmatizer()\n",
    "    \n",
    "    rijeci_a = list(map(lemma.lemmatize, rijeci))\n",
    "    \n",
    "    #makni stop_words ako treba\n",
    "    \n",
    "    if ukloni_stop_words:\n",
    "        rijeci_a = ukloni_stops(rijeci_a)\n",
    "        \n",
    "    return ' '.join(rijeci_a)\n",
    "    \n",
    "\n",
    "recenica = \"Each year, there’s considerable debate about which finalists should be inducted into the Naismith Memorial Basketball Hall of Fame. The NBA doesn’t have its own Hall, so a basketball player’s entire body of work – from their collegiate success to pro achievements to overseas play – must be factored in when debating whether their bust belongs in Springfield.At first glance, Chris Bosh may not seem like an obvious Hall-of-Fame selection. But, in reality, he’s a virtual lock to be inducted when his time comes. A player must be retired for five years before becoming eligible to enter the Hall of Fame, and Bosh shouldn’t have any trouble getting in (despite what some fans may think).Bosh finds his Hall of Fame candidacy questioned for very different reasons than most players. While some fans (unfairly) mocked him or downplayed his production when he was sharing the court with LeBron James and Dwyane Wade, Bosh’s public perception isn’t the issue.\"\n",
    "\n",
    "nova = pocisti_lemma(recenica, True)\n",
    "\n",
    "print(nova)"
   ]
  },
  {
   "cell_type": "markdown",
   "metadata": {},
   "source": [
    "<h3>Text Classification</h3>"
   ]
  },
  {
   "cell_type": "code",
   "execution_count": 144,
   "metadata": {},
   "outputs": [],
   "source": [
    "from nltk.corpus import names\n",
    "labels = ([(name, 'male') for name in names.words('male.txt')] + [(name, 'female') for name in names.words('female.txt')])\n",
    "import random as rnd\n",
    "rnd.shuffle(labels)\n",
    "\n",
    "#pokušat ćemo kreirati classifier tako što ćemo gledat zadnja slova imena\n",
    "\n",
    "def feature_last_letter(name):\n",
    "    return {'l': name[-1]}\n",
    "\n",
    "sets = [(feature_last_letter(name), gender) for (name, gender) in labels]\n",
    "\n",
    "#treniramo na prvih 400 imena\n",
    "\n",
    "trening, test = sets[400:], sets[:400]\n",
    "\n",
    "cls = nltk.NaiveBayesClassifier.train(trening)\n"
   ]
  },
  {
   "cell_type": "code",
   "execution_count": 145,
   "metadata": {},
   "outputs": [
    {
     "data": {
      "text/plain": [
       "'male'"
      ]
     },
     "execution_count": 145,
     "metadata": {},
     "output_type": "execute_result"
    }
   ],
   "source": [
    "cls.classify(feature_last_letter('Goran'))"
   ]
  },
  {
   "cell_type": "code",
   "execution_count": 146,
   "metadata": {},
   "outputs": [
    {
     "data": {
      "text/plain": [
       "'female'"
      ]
     },
     "execution_count": 146,
     "metadata": {},
     "output_type": "execute_result"
    }
   ],
   "source": [
    "cls.classify(feature_last_letter('Iva'))"
   ]
  },
  {
   "cell_type": "code",
   "execution_count": 147,
   "metadata": {},
   "outputs": [
    {
     "name": "stdout",
     "output_type": "stream",
     "text": [
      "0.7925\n"
     ]
    }
   ],
   "source": [
    "#možemo iskoristiti metodu accuracy koja će nam reći koja je točnost \n",
    "#classifiera na test setu\n",
    "\n",
    "print(nltk.classify.accuracy(cls, test))"
   ]
  },
  {
   "cell_type": "code",
   "execution_count": 148,
   "metadata": {},
   "outputs": [
    {
     "name": "stdout",
     "output_type": "stream",
     "text": [
      "Most Informative Features\n",
      "                       l = 'a'            female : male   =     34.7 : 1.0\n",
      "                       l = 'k'              male : female =     32.6 : 1.0\n",
      "                       l = 'f'              male : female =     15.9 : 1.0\n",
      "                       l = 'p'              male : female =     11.8 : 1.0\n",
      "                       l = 'v'              male : female =     11.2 : 1.0\n",
      "                       l = 'd'              male : female =     10.1 : 1.0\n",
      "                       l = 'm'              male : female =      8.9 : 1.0\n",
      "                       l = 'o'              male : female =      8.3 : 1.0\n",
      "                       l = 'r'              male : female =      7.1 : 1.0\n",
      "                       l = 'g'              male : female =      5.6 : 1.0\n"
     ]
    }
   ],
   "source": [
    "cls.show_most_informative_features(10)"
   ]
  },
  {
   "cell_type": "code",
   "execution_count": 152,
   "metadata": {},
   "outputs": [],
   "source": [
    "#Provjerimo kakv rezultat ćemo dobiti ako umjesto zadnjeg\n",
    "#slova uzmemo zadnja dva slova\n",
    "\n",
    "def feature_last_2_letters(name):\n",
    "    return {'l': name[-2:]}\n",
    "\n",
    "sets = [(feature_last_2_letters(name), gender) for (name, gender) in labels]\n",
    "\n",
    "#treniramo na prvih 400 imena\n",
    "\n",
    "trening, test = sets[400:], sets[:400]\n",
    "\n",
    "cls = nltk.NaiveBayesClassifier.train(trening)"
   ]
  },
  {
   "cell_type": "code",
   "execution_count": 153,
   "metadata": {},
   "outputs": [
    {
     "name": "stdout",
     "output_type": "stream",
     "text": [
      "0.7975\n"
     ]
    }
   ],
   "source": [
    "print(nltk.classify.accuracy(cls, test))"
   ]
  },
  {
   "cell_type": "code",
   "execution_count": 154,
   "metadata": {},
   "outputs": [
    {
     "name": "stdout",
     "output_type": "stream",
     "text": [
      "Most Informative Features\n",
      "                       l = 'na'           female : male   =    101.6 : 1.0\n",
      "                       l = 'la'           female : male   =     75.7 : 1.0\n",
      "                       l = 'us'             male : female =     40.8 : 1.0\n",
      "                       l = 'ia'           female : male   =     40.7 : 1.0\n",
      "                       l = 'sa'           female : male   =     35.5 : 1.0\n",
      "                       l = 'do'             male : female =     27.1 : 1.0\n",
      "                       l = 'ta'           female : male   =     26.4 : 1.0\n",
      "                       l = 'ra'           female : male   =     25.7 : 1.0\n",
      "                       l = 'rd'             male : female =     25.6 : 1.0\n",
      "                       l = 'ld'             male : female =     22.9 : 1.0\n"
     ]
    }
   ],
   "source": [
    "cls.show_most_informative_features(10)"
   ]
  },
  {
   "cell_type": "code",
   "execution_count": 156,
   "metadata": {},
   "outputs": [
    {
     "name": "stdout",
     "output_type": "stream",
     "text": [
      "0.8025\n"
     ]
    }
   ],
   "source": [
    "#možemo iskoristiti i drugačiji classifier umjest NaiveBayes\n",
    "cls = nltk.classify.DecisionTreeClassifier.train(trening)\n",
    "\n",
    "print(nltk.classify.accuracy(cls, test))"
   ]
  },
  {
   "cell_type": "code",
   "execution_count": 161,
   "metadata": {},
   "outputs": [],
   "source": [
    "from nltk.classify.scikitlearn import SklearnClassifier\n",
    "from sklearn.svm import SVC, LinearSVC"
   ]
  },
  {
   "cell_type": "code",
   "execution_count": 162,
   "metadata": {},
   "outputs": [
    {
     "name": "stdout",
     "output_type": "stream",
     "text": [
      "0.6575\n"
     ]
    }
   ],
   "source": [
    "SVC_cls = SklearnClassifier(SVC())\n",
    "SVC_cls.train(trening)\n",
    "print(nltk.classify.accuracy(SVC_cls, test))"
   ]
  },
  {
   "cell_type": "code",
   "execution_count": null,
   "metadata": {},
   "outputs": [],
   "source": []
  }
 ],
 "metadata": {
  "kernelspec": {
   "display_name": "Python 3",
   "language": "python",
   "name": "python3"
  },
  "language_info": {
   "codemirror_mode": {
    "name": "ipython",
    "version": 3
   },
   "file_extension": ".py",
   "mimetype": "text/x-python",
   "name": "python",
   "nbconvert_exporter": "python",
   "pygments_lexer": "ipython3",
   "version": "3.6.4"
  }
 },
 "nbformat": 4,
 "nbformat_minor": 2
}
